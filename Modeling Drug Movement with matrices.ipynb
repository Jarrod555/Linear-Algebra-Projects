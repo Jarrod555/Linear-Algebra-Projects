{
  "nbformat": 4,
  "nbformat_minor": 0,
  "metadata": {
    "colab": {
      "provenance": [],
      "authorship_tag": "ABX9TyMyWBAvEd9ghERQZhgQwVUq",
      "include_colab_link": true
    },
    "kernelspec": {
      "name": "python3",
      "display_name": "Python 3"
    },
    "language_info": {
      "name": "python"
    }
  },
  "cells": [
    {
      "cell_type": "markdown",
      "metadata": {
        "id": "view-in-github",
        "colab_type": "text"
      },
      "source": [
        "<a href=\"https://colab.research.google.com/github/Jarrod555/Linear-Algerbra-Projects/blob/main/Take_Home_Exam_1_Drug_Markov_Chain_Problem_.ipynb\" target=\"_parent\"><img src=\"https://colab.research.google.com/assets/colab-badge.svg\" alt=\"Open In Colab\"/></a>"
      ]
    },
    {
      "cell_type": "code",
      "execution_count": 1,
      "metadata": {
        "id": "j7Up4axlLECX"
      },
      "outputs": [],
      "source": []
    },
    {
      "cell_type": "code",
      "metadata": {
        "id": "OCPrJ_6ij5LN"
      },
      "source": [
        "import numpy as np\n",
        "from numpy import c_\n",
        "\n",
        "ll = \"loaded\"\n",
        "\n",
        "\n"
      ],
      "execution_count": 2,
      "outputs": []
    },
    {
      "cell_type": "code",
      "source": [
        "# create the matrix M:\n",
        "M = np.matrix([[4/10,1/2,1/5,0],\n",
        "               [3/10,0,2/5,0],\n",
        "               [3/10,0,2/5,0],\n",
        "               [0,1/2,0,1]])\n",
        "M"
      ],
      "metadata": {
        "colab": {
          "base_uri": "https://localhost:8080/"
        },
        "id": "Dm7lTem2LVTV",
        "outputId": "0f25abb6-246a-4828-d166-789cf7dd84cb"
      },
      "execution_count": 3,
      "outputs": [
        {
          "output_type": "execute_result",
          "data": {
            "text/plain": [
              "matrix([[0.4, 0.5, 0.2, 0. ],\n",
              "        [0.3, 0. , 0.4, 0. ],\n",
              "        [0.3, 0. , 0.4, 0. ],\n",
              "        [0. , 0.5, 0. , 1. ]])"
            ]
          },
          "metadata": {},
          "execution_count": 3
        }
      ]
    },
    {
      "cell_type": "code",
      "source": [
        "x0 = np.matrix([[100], [200], [0], [0]])\n",
        "x0"
      ],
      "metadata": {
        "colab": {
          "base_uri": "https://localhost:8080/"
        },
        "id": "V-VM3zwZLVfB",
        "outputId": "d4072e7c-ce27-478a-d2d2-398ed0212311"
      },
      "execution_count": 4,
      "outputs": [
        {
          "output_type": "execute_result",
          "data": {
            "text/plain": [
              "matrix([[100],\n",
              "        [200],\n",
              "        [  0],\n",
              "        [  0]])"
            ]
          },
          "metadata": {},
          "execution_count": 4
        }
      ]
    },
    {
      "cell_type": "code",
      "source": [
        "x1 = M*x0\n",
        "x2 = M*x1\n",
        "(M**3)*x0"
      ],
      "metadata": {
        "colab": {
          "base_uri": "https://localhost:8080/"
        },
        "id": "b-hbo04iLVta",
        "outputId": "649890c4-a5be-42e9-e838-92d5f20a693c"
      },
      "execution_count": 5,
      "outputs": [
        {
          "output_type": "execute_result",
          "data": {
            "text/plain": [
              "matrix([[ 68.6],\n",
              "        [ 44.7],\n",
              "        [ 44.7],\n",
              "        [142. ]])"
            ]
          },
          "metadata": {},
          "execution_count": 5
        }
      ]
    },
    {
      "cell_type": "code",
      "source": [
        "(M**2)*x0"
      ],
      "metadata": {
        "colab": {
          "base_uri": "https://localhost:8080/"
        },
        "id": "UqnGUHEoMn3M",
        "outputId": "7879d29a-e7e0-4caa-d2f2-8b8304ee87e2"
      },
      "execution_count": 7,
      "outputs": [
        {
          "output_type": "execute_result",
          "data": {
            "text/plain": [
              "matrix([[ 77.],\n",
              "        [ 54.],\n",
              "        [ 54.],\n",
              "        [115.]])"
            ]
          },
          "metadata": {},
          "execution_count": 7
        }
      ]
    },
    {
      "cell_type": "code",
      "source": [
        "(M**4)*x0"
      ],
      "metadata": {
        "colab": {
          "base_uri": "https://localhost:8080/"
        },
        "id": "NrrLvDKkM3aI",
        "outputId": "5e90b8e3-755d-439e-baa1-fb6f92c7b900"
      },
      "execution_count": 8,
      "outputs": [
        {
          "output_type": "execute_result",
          "data": {
            "text/plain": [
              "matrix([[ 58.73],\n",
              "        [ 38.46],\n",
              "        [ 38.46],\n",
              "        [164.35]])"
            ]
          },
          "metadata": {},
          "execution_count": 8
        }
      ]
    },
    {
      "cell_type": "code",
      "source": [
        "(M**48)*x0"
      ],
      "metadata": {
        "colab": {
          "base_uri": "https://localhost:8080/"
        },
        "id": "okz-gr_UNf_F",
        "outputId": "af581290-3e04-4978-ddc4-2c1589b164dd"
      },
      "execution_count": 9,
      "outputs": [
        {
          "output_type": "execute_result",
          "data": {
            "text/plain": [
              "matrix([[7.04863641e-02],\n",
              "        [4.61441570e-02],\n",
              "        [4.61441570e-02],\n",
              "        [2.99837225e+02]])"
            ]
          },
          "metadata": {},
          "execution_count": 9
        }
      ]
    }
  ]
}
