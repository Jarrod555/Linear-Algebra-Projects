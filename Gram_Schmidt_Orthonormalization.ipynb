{
  "nbformat": 4,
  "nbformat_minor": 0,
  "metadata": {
    "colab": {
      "provenance": [],
      "authorship_tag": "ABX9TyPRGBkjZ3aDjGnAL9t9H6Zd",
      "include_colab_link": true
    },
    "kernelspec": {
      "name": "python3",
      "display_name": "Python 3"
    },
    "language_info": {
      "name": "python"
    }
  },
  "cells": [
    {
      "cell_type": "markdown",
      "metadata": {
        "id": "view-in-github",
        "colab_type": "text"
      },
      "source": [
        "<a href=\"https://colab.research.google.com/github/Jarrod555/Linear-Algebra-Projects/blob/main/Gram_Schmidt_Orthonormalization.ipynb\" target=\"_parent\"><img src=\"https://colab.research.google.com/assets/colab-badge.svg\" alt=\"Open In Colab\"/></a>"
      ]
    },
    {
      "cell_type": "code",
      "execution_count": null,
      "metadata": {
        "id": "EC1BpGbG0eoU"
      },
      "outputs": [],
      "source": [
        "\n",
        "import matplotlib.pyplot as plt\n",
        "from sympy import Poly\n",
        "import sympy as sym\n",
        "import numpy as np\n",
        "from numpy import c_\n",
        "\n",
        "# We'll specify that x and t are variables:\n",
        "x, t = sym.symbols('x, t')\n",
        "\n",
        "ll = \"loaded\"\n",
        "\n",
        "\n",
        "\n",
        "     "
      ]
    },
    {
      "cell_type": "markdown",
      "source": [
        "Vector operations for the Gram-Schmidt process"
      ],
      "metadata": {
        "id": "igr4oxLo1gvO"
      }
    },
    {
      "cell_type": "code",
      "source": [
        "#create a vector"
      ],
      "metadata": {
        "id": "WzI06dTF1Pgb"
      },
      "execution_count": null,
      "outputs": []
    },
    {
      "cell_type": "code",
      "source": [
        "r1= np.array([1,2,3])\n",
        "r1"
      ],
      "metadata": {
        "colab": {
          "base_uri": "https://localhost:8080/"
        },
        "id": "SzgjnkCa1Roh",
        "outputId": "731c9482-0e48-4323-fa6b-5f1f99e5150f"
      },
      "execution_count": null,
      "outputs": [
        {
          "output_type": "execute_result",
          "data": {
            "text/plain": [
              "array([1, 2, 3])"
            ]
          },
          "metadata": {},
          "execution_count": 56
        }
      ]
    },
    {
      "cell_type": "code",
      "source": [
        "#vector arithmetic#\n",
        "-3* r1"
      ],
      "metadata": {
        "colab": {
          "base_uri": "https://localhost:8080/"
        },
        "id": "jySFvhgD1R34",
        "outputId": "b2b1063e-169a-4781-c585-05c03dc8fb1d"
      },
      "execution_count": null,
      "outputs": [
        {
          "output_type": "execute_result",
          "data": {
            "text/plain": [
              "array([-3, -6, -9])"
            ]
          },
          "metadata": {},
          "execution_count": 57
        }
      ]
    },
    {
      "cell_type": "code",
      "source": [
        "#vector dot product\n",
        "r1.dot(r1)"
      ],
      "metadata": {
        "colab": {
          "base_uri": "https://localhost:8080/"
        },
        "id": "b5Bm-lFT1R6R",
        "outputId": "5ea19f87-d695-49e1-b0fd-b8c5eccc175b"
      },
      "execution_count": null,
      "outputs": [
        {
          "output_type": "execute_result",
          "data": {
            "text/plain": [
              "14"
            ]
          },
          "metadata": {},
          "execution_count": 58
        }
      ]
    },
    {
      "cell_type": "code",
      "source": [
        "#magnitude\n",
        "r1.size\n",
        "r1.dot(r1)\n"
      ],
      "metadata": {
        "colab": {
          "base_uri": "https://localhost:8080/"
        },
        "id": "70zgJndR1Sfy",
        "outputId": "55ceb257-56ea-41c3-ab34-99240cc2eb4a"
      },
      "execution_count": null,
      "outputs": [
        {
          "output_type": "execute_result",
          "data": {
            "text/plain": [
              "14"
            ]
          },
          "metadata": {},
          "execution_count": 59
        }
      ]
    },
    {
      "cell_type": "code",
      "source": [
        "#need sqrt \n",
        "np.sqrt(14)"
      ],
      "metadata": {
        "colab": {
          "base_uri": "https://localhost:8080/"
        },
        "id": "jgPu_SQ91S8n",
        "outputId": "67735d5a-12f6-4803-fe57-fd0f655356db"
      },
      "execution_count": null,
      "outputs": [
        {
          "output_type": "execute_result",
          "data": {
            "text/plain": [
              "3.7416573867739413"
            ]
          },
          "metadata": {},
          "execution_count": 60
        }
      ]
    },
    {
      "cell_type": "code",
      "source": [
        "#magnitdue of vector r1\n",
        "np.sqrt(r1.dot(r1))"
      ],
      "metadata": {
        "colab": {
          "base_uri": "https://localhost:8080/"
        },
        "id": "NTW2TPcv37CN",
        "outputId": "caad3ede-0a2a-43aa-b7a4-acfde2e76775"
      },
      "execution_count": null,
      "outputs": [
        {
          "output_type": "execute_result",
          "data": {
            "text/plain": [
              "3.7416573867739413"
            ]
          },
          "metadata": {},
          "execution_count": 61
        }
      ]
    },
    {
      "cell_type": "markdown",
      "source": [
        "#Implement Gram-Schmidt on 4 vectors"
      ],
      "metadata": {
        "id": "NS-l7oHB4Yx5"
      }
    },
    {
      "cell_type": "code",
      "source": [
        "#orignal random vecotrs\n",
        "r1= np.array([3,0,3,0])\n",
        "r2= np.array([3,2,3,3])\n",
        "r3= np.array([-7,-4,-5,-6])\n",
        "r4= np.array([-7,-3,-11,2])\n"
      ],
      "metadata": {
        "id": "TzkJqyr93_cP"
      },
      "execution_count": null,
      "outputs": []
    },
    {
      "cell_type": "code",
      "source": [
        "print(r1)"
      ],
      "metadata": {
        "colab": {
          "base_uri": "https://localhost:8080/"
        },
        "id": "XLX4gHG25fGE",
        "outputId": "0186a69b-30f5-4700-b95b-5ab24092662a"
      },
      "execution_count": null,
      "outputs": [
        {
          "output_type": "stream",
          "name": "stdout",
          "text": [
            "[3 0 3 0]\n"
          ]
        }
      ]
    },
    {
      "cell_type": "code",
      "source": [
        "#process $r_1$\n",
        "#choose the r1 one vector and subtract off orthogonal pieces\n"
      ],
      "metadata": {
        "id": "-1aIQYWV5p7I"
      },
      "execution_count": null,
      "outputs": []
    },
    {
      "cell_type": "code",
      "source": [
        "t1=r1\n",
        "t1"
      ],
      "metadata": {
        "colab": {
          "base_uri": "https://localhost:8080/"
        },
        "id": "QezWE6Nq55fr",
        "outputId": "dff8f1e3-d27c-4796-eea6-712438d271ea"
      },
      "execution_count": null,
      "outputs": [
        {
          "output_type": "execute_result",
          "data": {
            "text/plain": [
              "array([3, 0, 3, 0])"
            ]
          },
          "metadata": {},
          "execution_count": 65
        }
      ]
    },
    {
      "cell_type": "code",
      "source": [
        "#find the size of t1\n",
        "M= np.sqrt(t1.dot(t1))\n",
        "M"
      ],
      "metadata": {
        "colab": {
          "base_uri": "https://localhost:8080/"
        },
        "id": "XRGNPWPN5-pO",
        "outputId": "60b1b68f-520c-457f-8069-38a36a31aafe"
      },
      "execution_count": null,
      "outputs": [
        {
          "output_type": "execute_result",
          "data": {
            "text/plain": [
              "4.242640687119285"
            ]
          },
          "metadata": {},
          "execution_count": 66
        }
      ]
    },
    {
      "cell_type": "code",
      "source": [
        "#The nice vefctor is u1 = t1/m\n",
        "u1=(1/M)*t1\n",
        "u1"
      ],
      "metadata": {
        "colab": {
          "base_uri": "https://localhost:8080/"
        },
        "id": "LaHWyP0M6DTq",
        "outputId": "4a32966b-8626-4c29-db76-f33efa80c721"
      },
      "execution_count": null,
      "outputs": [
        {
          "output_type": "execute_result",
          "data": {
            "text/plain": [
              "array([0.70710678, 0.        , 0.70710678, 0.        ])"
            ]
          },
          "metadata": {},
          "execution_count": 67
        }
      ]
    },
    {
      "cell_type": "code",
      "source": [
        "#verify the size is correct to check answer\n",
        "(np.sqrt(u1.dot(u1)))"
      ],
      "metadata": {
        "colab": {
          "base_uri": "https://localhost:8080/"
        },
        "id": "5EPNc-je7Don",
        "outputId": "127d4229-5078-437f-b3d8-a87d583780df"
      },
      "execution_count": null,
      "outputs": [
        {
          "output_type": "execute_result",
          "data": {
            "text/plain": [
              "1.0"
            ]
          },
          "metadata": {},
          "execution_count": 68
        }
      ]
    },
    {
      "cell_type": "markdown",
      "source": [
        "The size is 1\n"
      ],
      "metadata": {
        "id": "beFSe8Gb7BBq"
      }
    },
    {
      "cell_type": "markdown",
      "source": [
        "#Process $r_2$\n",
        "additionally change the t1 and u1 to t2 and u2 etc.\n",
        "\n",
        "```\n",
        "`# This is formatted as code`\n",
        "```\n",
        "\n"
      ],
      "metadata": {
        "id": "Mov7wOqW7hXW"
      }
    },
    {
      "cell_type": "code",
      "source": [
        "t2=r2 - r2.dot(u1)*u1 # subtract orthogonal portion\n",
        "t2\n",
        "\n",
        "#find the size of t1\n",
        "M= np.sqrt(t2.dot(t2))\n",
        "M\n",
        "\n",
        "#The nice vefctor is u2 = t2/m\n",
        "u2=(1/M)*t2\n",
        "u2\n"
      ],
      "metadata": {
        "colab": {
          "base_uri": "https://localhost:8080/"
        },
        "id": "LlJiydl87Oqx",
        "outputId": "92b510c7-bc2d-469d-ca87-e2fe6429a247"
      },
      "execution_count": null,
      "outputs": [
        {
          "output_type": "execute_result",
          "data": {
            "text/plain": [
              "array([-1.23168186e-16,  5.54700196e-01, -1.23168186e-16,  8.32050294e-01])"
            ]
          },
          "metadata": {},
          "execution_count": 73
        }
      ]
    },
    {
      "cell_type": "code",
      "source": [
        "#verify the size is correct to check answer\n",
        "print(np.sqrt(u1.dot(u1)))\n",
        "print(np.sqrt(u2.dot(u2)))\n",
        "\n",
        "print(\"u1 dotted with u2 =  \", u1.dot(u2))\n"
      ],
      "metadata": {
        "colab": {
          "base_uri": "https://localhost:8080/"
        },
        "id": "lhATm9BvIfNW",
        "outputId": "6b66b8fe-a30b-4f99-9172-e1997f2ae87b"
      },
      "execution_count": null,
      "outputs": [
        {
          "output_type": "stream",
          "name": "stdout",
          "text": [
            "1.0\n",
            "1.0\n",
            "u1 dotted with u2 =   -1.741861189847285e-16\n"
          ]
        }
      ]
    },
    {
      "cell_type": "code",
      "source": [
        "print(np.sqrt(u2.dot(u2)))\n",
        "#process r3\n",
        "t3=r3 - r3.dot(u1)*u1 - r3.dot(u2)*u2 # subtract orthogonal portion\n",
        "t3\n",
        "\n",
        "#find the size of t2\n",
        "M= np.sqrt(t3.dot(t3))\n",
        "M\n",
        "\n",
        "#The nice vefctor is u3 = t3/m\n",
        "u3=(1/M)*t3\n",
        "u3"
      ],
      "metadata": {
        "colab": {
          "base_uri": "https://localhost:8080/"
        },
        "id": "3MI8Cv018oWv",
        "outputId": "1f5da8bc-4381-41dc-a2d0-739129833940"
      },
      "execution_count": null,
      "outputs": [
        {
          "output_type": "stream",
          "name": "stdout",
          "text": [
            "1.0\n"
          ]
        },
        {
          "output_type": "execute_result",
          "data": {
            "text/plain": [
              "array([0.53881591, 0.3592106 , 0.53881591, 0.53881591])"
            ]
          },
          "metadata": {},
          "execution_count": 75
        }
      ]
    },
    {
      "cell_type": "code",
      "source": [
        "#verify the size is correct to check answer\n",
        "print(np.sqrt(u1.dot(u1)))\n",
        "print(np.sqrt(u2.dot(u2)))\n",
        "print(np.sqrt(u3.dot(u3)))\n",
        "\n",
        "\n",
        "print(\"u1 dotted with u2 =  \", u1.dot(u2))\n",
        "\n",
        "print(\"u1 dotted with u3 =  \", u1.dot(u3))\n",
        "print(\"u2 dotted with u3 =  \", u2.dot(u3))"
      ],
      "metadata": {
        "colab": {
          "base_uri": "https://localhost:8080/"
        },
        "id": "_IXG9wABI6iL",
        "outputId": "3e92d1bb-0d59-4504-8db2-8bc4a6c70a6e"
      },
      "execution_count": null,
      "outputs": [
        {
          "output_type": "stream",
          "name": "stdout",
          "text": [
            "1.0\n",
            "1.0\n",
            "1.0\n",
            "u1 dotted with u2 =   -1.741861189847285e-16\n",
            "u1 dotted with u3 =   0.7620007620011431\n",
            "u2 dotted with u3 =   0.6475761258027332\n"
          ]
        }
      ]
    },
    {
      "cell_type": "code",
      "source": [
        "t4=r4 - r4.dot(u1)*r4 - r4.dot(u2)*r4 - r4.dot(u3)*r4  # subtract orthogonal portion\n",
        "t4\n",
        "\n",
        "#find the size of t4\n",
        "M= np.sqrt(t4.dot(t4))\n",
        "M\n",
        "\n",
        "#The nice vector is u4 = t4/m\n",
        "u4=(1/M)*t4\n",
        "u4"
      ],
      "metadata": {
        "colab": {
          "base_uri": "https://localhost:8080/"
        },
        "id": "RTeu20FAAcS3",
        "outputId": "d2d4e4ef-5546-4475-80fb-6b0fbfb65f91"
      },
      "execution_count": null,
      "outputs": [
        {
          "output_type": "execute_result",
          "data": {
            "text/plain": [
              "array([-0.51745489, -0.22176638, -0.8131434 ,  0.14784425])"
            ]
          },
          "metadata": {},
          "execution_count": 27
        }
      ]
    },
    {
      "cell_type": "code",
      "source": [
        "#r1\n",
        "#r2\n",
        "#r3\n",
        "#r4\n",
        "print(r1.dot(u1), r1.dot(u2), r1.dot(u3), r1.dot(u4)) \n",
        "print(r2.dot(u1) ,  r2.dot(u2) , r2.dot(u3) , r2.dot(u4))\n",
        "print(r3.dot(u1), r3.dot(u2), r3.dot(u3), r3.dot(u4))\n",
        "print(r4.dot(u1), r4.dot(u2), r4.dot(u3), r4.dot(u4))"
      ],
      "metadata": {
        "colab": {
          "base_uri": "https://localhost:8080/"
        },
        "id": "xBlNTkeX8l50",
        "outputId": "eed4800a-11c6-4a26-a551-45f0fc0aec7e"
      },
      "execution_count": null,
      "outputs": [
        {
          "output_type": "stream",
          "name": "stdout",
          "text": [
            "4.242640687119286 -3.2328954364819475 3.2145995037318977 -3.991794863154693\n",
            "4.242640687119286 -5.567764362830021 5.536254700871602 -3.991794863154693\n",
            "-8.485281374238571 11.135528725660041 -11.222753050543988 7.687901217927557\n",
            "-12.727922061357855 9.698686309445844 -9.343311213594124 13.527749258468683\n"
          ]
        }
      ]
    },
    {
      "cell_type": "code",
      "source": [
        "#square the values above after correcting the r1 instead of u1 factor of multiplication to express the vector rn as some combination of all of the uhat vectors where the scalar value is the square root of the square of the values\n"
      ],
      "metadata": {
        "id": "ocZsDVzT_ri-"
      },
      "execution_count": null,
      "outputs": []
    }
  ]
}